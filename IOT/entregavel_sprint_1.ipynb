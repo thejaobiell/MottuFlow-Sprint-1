{
  "nbformat": 4,
  "nbformat_minor": 0,
  "metadata": {
    "colab": {
      "provenance": []
    },
    "kernelspec": {
      "name": "python3",
      "display_name": "Python 3"
    },
    "language_info": {
      "name": "python"
    }
  },
  "cells": [
    {
      "cell_type": "code",
      "execution_count": null,
      "metadata": {
        "id": "jja4-gyU4pTn"
      },
      "outputs": [],
      "source": [
        "import cv2\n",
        "from google.colab.patches import cv2_imshow\n",
        "import numpy as np\n",
        "\n",
        "# --- Parâmetros ---\n",
        "VIDEO_PATH = '/content/20250520_084850.jpg'  # Troque para 0 para webcam, ou caminho do vídeo\n",
        "REAL_MARKER_SIZE = 0.05\n",
        "DISTANCE_THRESHOLD = 2.0\n",
        "\n",
        "# calibragem da câmera\n",
        "camera_matrix = np.array([[1000, 0, 640],\n",
        "                          [0, 1000, 480],\n",
        "                          [0, 0, 1]], dtype=np.float32)\n",
        "\n",
        "dist_coeffs = np.zeros((4, 1), dtype=np.float32)\n",
        "\n",
        "# --- Inicializar detector ArUco (dicionário padrão 6x6_250) ---\n",
        "aruco_dict = cv2.aruco.getPredefinedDictionary(cv2.aruco.DICT_6X6_250)\n",
        "parameters = cv2.aruco.DetectorParameters()\n",
        "\n",
        "cap = cv2.VideoCapture(VIDEO_PATH)\n",
        "\n",
        "while cap.isOpened():\n",
        "    ret, frame = cap.read()\n",
        "    if not ret:\n",
        "        break\n",
        "\n",
        "    gray = cv2.cvtColor(frame, cv2.COLOR_BGR2GRAY)\n",
        "    corners, ids, rejected = cv2.aruco.detectMarkers(gray, aruco_dict, parameters=parameters)\n",
        "\n",
        "    # --- Processar marcadores detectados ---\n",
        "    if ids is not None:\n",
        "        cv2.aruco.drawDetectedMarkers(frame, corners, ids)\n",
        "\n",
        "        rvecs, tvecs, _ = cv2.aruco.estimatePoseSingleMarkers(corners, REAL_MARKER_SIZE, camera_matrix, dist_coeffs)\n",
        "\n",
        "        filtered_ids = []\n",
        "        for i in range(len(ids)):\n",
        "            distance = tvecs[i][0][2]\n",
        "\n",
        "            if distance <= DISTANCE_THRESHOLD:\n",
        "                filtered_ids.append(ids[i][0])\n",
        "\n",
        "                corner_center = corners[i][0].mean(axis=0).astype(int)\n",
        "                text_pos = (corner_center[0], corner_center[1] + 20)\n",
        "\n",
        "                distance_text = f\"ID: {ids[i][0]} Dist: {distance:.2f}m\"\n",
        "\n",
        "                cv2.putText(frame, distance_text, text_pos, cv2.FONT_HERSHEY_SIMPLEX, 0.5, (0, 255, 0), 2)\n",
        "\n",
        "\n",
        "        if filtered_ids:\n",
        "             print(f\"IDs dentro de {DISTANCE_THRESHOLD}m: {filtered_ids}\")\n",
        "             if 1 in filtered_ids:\n",
        "                 print(\"LED ON para marcador 1 (dentro do limite de distância)!\")\n",
        "        else:\n",
        "             print(f\"Nenhum marcador detectado dentro de {DISTANCE_THRESHOLD}m.\")\n",
        "\n",
        "\n",
        "    cv2_imshow(frame)\n",
        "\n",
        "cap.release()\n",
        "cv2.destroyAllWindows()"
      ]
    }
  ]
}